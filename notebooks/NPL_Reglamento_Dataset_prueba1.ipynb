{
 "cells": [
  {
   "cell_type": "code",
   "execution_count": 29,
   "id": "bbbdea9b-bcaa-425b-bd78-9e9be56d00fd",
   "metadata": {},
   "outputs": [],
   "source": [
    "!pip install Ollama -q\n",
    "!pip install langchain -q\n",
    "!pip install langchain_community -q\n",
    "!pip install pandas -q\n",
    "!pip install datasets huggingface_hub -q"
   ]
  },
  {
   "cell_type": "code",
   "execution_count": 66,
   "id": "6d19a93f-76b7-47fd-96f8-c6b9c723042c",
   "metadata": {},
   "outputs": [],
   "source": [
    "import ollama\n",
    "import pandas as pd\n",
    "from langchain_community.llms import Ollama\n",
    "from datasets import Dataset\n",
    "\n",
    "\n"
   ]
  },
  {
   "cell_type": "code",
   "execution_count": 54,
   "id": "bcac65a8-df62-46d9-967b-e2550a004473",
   "metadata": {},
   "outputs": [
    {
     "name": "stdout",
     "output_type": "stream",
     "text": [
      "Se encontraron 674 artículos.\n",
      "Artículo 1:\n",
      "Documento:8\n",
      "Articulo: 3\n",
      "Capitulo: I - CONVOCATORIA\n",
      "\n",
      "Norma General: Las convocatorias para la designación por Concurso de Profesores Ordinarios titulares, asociados y adjuntos para las diferentes cátedras, áreas, núcleos, asignaturas que integran los núcleos, disciplinas, laboratorio de las Facultades que integran esta Universidad se regirán por las disposiciones del presente Reglamento y las que en consecuencia dicten las Unidades Académicas, que deberán ser aprobadas por el Consejo Superior.\n",
      "--------------------------------------------------------------------------------\n",
      "Artículo 2:\n",
      "Documento:8\n",
      "Articulo: 4\n",
      "Capitulo: I - CONVOCATORIA\n",
      "\n",
      "Cada Unidad Académica mediante Resolución del Consejo Directivo propondrá al Consejo Superior la provisión de cargos de profesores por concurso especificando lo siguiente: a) las cátedras, áreas, núcleos, asignaturas que integran los núcleos, disciplinas, laboratorio a concursar. b) La categoría. c) La dedicación. d) Si la imputación presupuestaria correspondiente al cargo llamado está afectada a la partida Gastos de Personal En todos los casos, el Consejo Superior deberá resolver sobre la solicitud de llamado dentro de los treinta (30) días de recibida.\n",
      "--------------------------------------------------------------------------------\n",
      "Artículo 3:\n",
      "Documento:8\n",
      "Articulo: 5\n",
      "Capitulo: I - CONVOCATORIA\n",
      "\n",
      "Las Unidades Académicas mediante resolución de sus Consejos Directivos podrán proponer al Consejo Superior la realización de concursos conjuntamente con otras Unidades Académicas de esta Universidad.\n",
      "--------------------------------------------------------------------------------\n"
     ]
    }
   ],
   "source": [
    "# Abre el archivo de texto en modo lectura ('r')\n",
    "with open(\"_Reglamento.txt\", \"r\", encoding=\"utf-8\") as file:\n",
    "    # Lee el contenido del archivo\n",
    "    texto  = file.read()\n",
    "\n",
    "# Divide el texto en artículos usando \"Documento:\" como delimitador\n",
    "articulos = texto.split(\"Documento:\")\n",
    "\n",
    "# Eliminar posibles espacios en blanco o líneas vacías y reconstruir cada artículo con \"Documento:\" al principio\n",
    "articulos = [\"Documento:\" + articulo.strip() for articulo in articulos if articulo.strip()]\n",
    "\n",
    "#Cantidad de articulos en la lista\n",
    "print(f\"Se encontraron {len(articulos)} artículos.\")\n",
    "\n",
    "# Imprimir los primeros 3 artículos como ejemplo\n",
    "primeros_tres_articulos = []\n",
    "for i, articulo in enumerate(articulos[:3], 1):\n",
    "    print(f\"Artículo {i}:\")\n",
    "    print(articulo)\n",
    "    print(\"-\" * 80)\n",
    "    primeros_tres_articulos.append(articulo)\n"
   ]
  },
  {
   "cell_type": "code",
   "execution_count": 12,
   "id": "c74ee1c9-6a73-4d13-a453-7d851dec2bc7",
   "metadata": {},
   "outputs": [],
   "source": [
    "llm = Ollama(model=\"llama3\", temperature = 0)"
   ]
  },
  {
   "cell_type": "code",
   "execution_count": 13,
   "id": "0938e2a2-030a-47c1-b285-b9fe12b2723b",
   "metadata": {},
   "outputs": [],
   "source": [
    "promptInicial = f\"\"\"\n",
    "Dado el siguiente artículo, genera preguntas y respuestas relacionadas con el contenido del texto.\n",
    "\n",
    "El formato debe ser:\n",
    "\n",
    "Pregunta: <pregunta>\n",
    "Respuesta: <respuesta>\n",
    "Pregunta: <pregunta>\n",
    "Respuesta: <respuesta>\n",
    "... (y así sucesivamente)\n",
    "\n",
    "La salida solo debe contener este formato, ni saludos, ni aclaraciones, solamente lo que se indica.\n",
    "\n",
    "Artículo:\n",
    "\"\"\"\n"
   ]
  },
  {
   "cell_type": "code",
   "execution_count": 14,
   "id": "8467d793-563a-4797-8254-132d20020484",
   "metadata": {},
   "outputs": [],
   "source": [
    "promptInicial2 = f\"\"\"\n",
    "Given the following article, generate deep questions and answers related to the content of the text. The questions should explore the details and nuances of the article, without referencing any other question or the article's numbering. The format should be:\n",
    "\n",
    "Pregunta: <pregunta>\n",
    "Respuesta: <respuesta>\n",
    "Pregunta: <pregunta>\n",
    "Respuesta: <respuesta>\n",
    "... (and so on)\n",
    "\n",
    "The output should only contain this format, no greetings, no explanations, only what is indicated. What you generate must be in Spanish.\n",
    "\n",
    "\n",
    "This is the article:\n",
    "\"\"\""
   ]
  },
  {
   "cell_type": "code",
   "execution_count": 16,
   "id": "325c8b42-8fd2-49f2-ae62-bc7857718287",
   "metadata": {},
   "outputs": [],
   "source": [
    "def generate_qa(article, prompt):\n",
    "    formatted_prompt = f\" {prompt} {article}\"\n",
    "    response = ollama.chat(model = 'llama3',\n",
    "                           messages = [{'role':'user', 'content': formatted_prompt}],\n",
    "                           options = {'temperature':0})\n",
    "    return response['message']['content']"
   ]
  },
  {
   "cell_type": "code",
   "execution_count": 42,
   "id": "e2ad206e-524a-419b-9a2f-3735f96da115",
   "metadata": {},
   "outputs": [],
   "source": [
    "def generate_qa_batch(list_articles, prompt):\n",
    "    preguntas_respuestas = []\n",
    "    for article in list_articles:\n",
    "        response = generate_qa(article, prompt)\n",
    "        preguntas_respuestas.append(response)\n",
    "    return preguntas_respuestas"
   ]
  },
  {
   "cell_type": "code",
   "execution_count": 55,
   "id": "79fdac9c-71aa-4438-8b51-94bc44661468",
   "metadata": {},
   "outputs": [],
   "source": [
    "list_example = generate_qa_batch(primeros_tres_articulos, promptInicial2)"
   ]
  },
  {
   "cell_type": "code",
   "execution_count": 62,
   "id": "e6ec0515-6c65-4344-8b3f-a19a4d51d0f6",
   "metadata": {},
   "outputs": [
    {
     "name": "stdout",
     "output_type": "stream",
     "text": [
      "Pregunta: ¿Qué tipo de convocatorias se establecen en este capítulo?\n",
      "Respuesta: Las convocatorias para la designación por Concurso de Profesores Ordinarios titulares, asociados y adjuntos.\n",
      "\n",
      "Pregunta: ¿Cuáles son las áreas que integran los núcleos mencionados en el artículo?\n",
      "Respuesta: No se especifica en este capítulo, pero se hace referencia a diferentes cátedras, áreas, núcleos, asignaturas y disciplinas.\n",
      "\n",
      "Pregunta: ¿Quién debe aprobar las disposiciones dictadas por las Unidades Académicas?\n",
      "Respuesta: El Consejo Superior.\n",
      "--------------------------------------------------------------------------------\n",
      "Pregunta: ¿Qué tipo de información debe incluir cada Unidad Académica en su propuesta para la provisión de cargos de profesores?\n",
      "Respuesta: La propuesta debe especificar las cátedras, áreas, núcleos, asignaturas que integran los núcleos, disciplinas y laboratorio a concursar.\n",
      "\n",
      "Pregunta: ¿Qué tipo de categoría debe ser especificada en la propuesta para la provisión de cargos de profesores?\n",
      "Respuesta: La categoría del cargo.\n",
      "\n",
      "Pregunta: ¿Cuál es el plazo dentro del cual el Consejo Superior debe resolver sobre la solicitud de llamado?\n",
      "Respuesta: Treinta (30) días después de recibir la solicitud.\n",
      "--------------------------------------------------------------------------------\n",
      "Pregunta: ¿Qué tipo de autoridad tienen los Consejos Directivos en las Unidades Académicas?\n",
      "Respuesta: Según el texto, los Consejos Directivos tienen la capacidad de emitir resoluciones que permiten a las Unidades Académicas proponer la realización de concursos.\n",
      "\n",
      "Pregunta: ¿Qué tipo de concursos pueden ser propuestos por las Unidades Académicas?\n",
      "Respuesta: El texto no especifica qué tipo de concursos pueden ser propuestos, solo menciona que pueden ser conjuntos con otras Unidades Académicas de la misma Universidad.\n",
      "\n",
      "Pregunta: ¿Hay algún límite o restricción para la cantidad de Unidades Académicas que puedan proponer un concurso?\n",
      "Respuesta: No hay información en el texto sobre límites o restricciones para la cantidad de Unidades Académicas que puedan proponer un concurso.\n",
      "\n",
      "Pregunta: ¿Qué papel juega el Consejo Superior en la realización de concursos propuestos por las Unidades Académicas?\n",
      "Respuesta: Según el texto, el Consejo Superior es el destinatario de las propuestas de los Consejos Directivos y puede aceptar o rechazar la realización del concurso.\n",
      "--------------------------------------------------------------------------------\n"
     ]
    }
   ],
   "source": [
    "print(list_example[0])\n",
    "print(\"-\" * 80)\n",
    "print(list_example[1])\n",
    "print(\"-\" * 80)\n",
    "print(list_example[2])\n",
    "print(\"-\" * 80)"
   ]
  },
  {
   "cell_type": "code",
   "execution_count": 24,
   "id": "f05426e5-6bd1-4133-b8e8-a642447286a9",
   "metadata": {},
   "outputs": [],
   "source": [
    "def generar_pregunta_respuesta(articulo):\n",
    "    # Procesar múltiples preguntas y respuestas\n",
    "    pairs = []\n",
    "    segments = articulo.split(\"Pregunta:\")\n",
    "    for segment in segments[1:]:  # Ignorar el primer split que no contiene pregunta\n",
    "        if \"Respuesta:\" in segment:\n",
    "            question = segment.split(\"Respuesta:\")[0].strip()\n",
    "            answer = segment.split(\"Respuesta:\")[1].strip()\n",
    "            pairs.append({\"from\": \"human\", \"value\": question})\n",
    "            pairs.append({\"from\": \"gpt\", \"value\": answer})\n",
    "    return pairs"
   ]
  },
  {
   "cell_type": "code",
   "execution_count": 45,
   "id": "4003a318-e1b8-487c-8e85-d86b9081aaed",
   "metadata": {},
   "outputs": [],
   "source": [
    "def generar_dataset(lista_articulos):\n",
    "    dataset = []\n",
    "    for articulo in lista_articulos:\n",
    "        pairs = generar_pregunta_respuesta(articulo)\n",
    "        dataset.append({'messages': pairs})\n",
    "    return pd.DataFrame(dataset)"
   ]
  },
  {
   "cell_type": "code",
   "execution_count": 63,
   "id": "7a1cee92-294f-4c31-b29c-12161d3e933e",
   "metadata": {},
   "outputs": [],
   "source": [
    "data = generar_dataset(list_example)\n"
   ]
  },
  {
   "cell_type": "code",
   "execution_count": 64,
   "id": "8ce7d092-004e-4bbf-9f9a-da123bd4e50a",
   "metadata": {},
   "outputs": [
    {
     "data": {
      "text/html": [
       "<div>\n",
       "<style scoped>\n",
       "    .dataframe tbody tr th:only-of-type {\n",
       "        vertical-align: middle;\n",
       "    }\n",
       "\n",
       "    .dataframe tbody tr th {\n",
       "        vertical-align: top;\n",
       "    }\n",
       "\n",
       "    .dataframe thead th {\n",
       "        text-align: right;\n",
       "    }\n",
       "</style>\n",
       "<table border=\"1\" class=\"dataframe\">\n",
       "  <thead>\n",
       "    <tr style=\"text-align: right;\">\n",
       "      <th></th>\n",
       "      <th>messages</th>\n",
       "    </tr>\n",
       "  </thead>\n",
       "  <tbody>\n",
       "    <tr>\n",
       "      <th>0</th>\n",
       "      <td>[{'from': 'human', 'value': '¿Qué tipo de convocatorias se establecen en este capítulo?'}, {'from': 'gpt', 'value': 'Las convocatorias para la designación por Concurso de Profesores Ordinarios titulares, asociados y adjuntos.'}, {'from': 'human', 'value': '¿Cuáles son las áreas que integran los núcleos mencionados en el artículo?'}, {'from': 'gpt', 'value': 'No se especifica en este capítulo, pero se hace referencia a diferentes cátedras, áreas, núcleos, asignaturas y disciplinas.'}, {'from': 'human', 'value': '¿Quién debe aprobar las disposiciones dictadas por las Unidades Académicas?'}, {'from': 'gpt', 'value': 'El Consejo Superior.'}]</td>\n",
       "    </tr>\n",
       "    <tr>\n",
       "      <th>1</th>\n",
       "      <td>[{'from': 'human', 'value': '¿Qué tipo de información debe incluir cada Unidad Académica en su propuesta para la provisión de cargos de profesores?'}, {'from': 'gpt', 'value': 'La propuesta debe especificar las cátedras, áreas, núcleos, asignaturas que integran los núcleos, disciplinas y laboratorio a concursar.'}, {'from': 'human', 'value': '¿Qué tipo de categoría debe ser especificada en la propuesta para la provisión de cargos de profesores?'}, {'from': 'gpt', 'value': 'La categoría del cargo.'}, {'from': 'human', 'value': '¿Cuál es el plazo dentro del cual el Consejo Superior debe resolver sobre la solicitud de llamado?'}, {'from': 'gpt', 'value': 'Treinta (30) días después de recibir la solicitud.'}]</td>\n",
       "    </tr>\n",
       "    <tr>\n",
       "      <th>2</th>\n",
       "      <td>[{'from': 'human', 'value': '¿Qué tipo de autoridad tienen los Consejos Directivos en las Unidades Académicas?'}, {'from': 'gpt', 'value': 'Según el texto, los Consejos Directivos tienen la capacidad de emitir resoluciones que permiten a las Unidades Académicas proponer la realización de concursos.'}, {'from': 'human', 'value': '¿Qué tipo de concursos pueden ser propuestos por las Unidades Académicas?'}, {'from': 'gpt', 'value': 'El texto no especifica qué tipo de concursos pueden ser propuestos, solo menciona que pueden ser conjuntos con otras Unidades Académicas de la misma Universidad.'}, {'from': 'human', 'value': '¿Hay algún límite o restricción para la cantidad de Unidades Académicas que puedan proponer un concurso?'}, {'from': 'gpt', 'value': 'No hay información en el texto sobre límites o restricciones para la cantidad de Unidades Académicas que puedan proponer un concurso.'}, {'from': 'human', 'value': '¿Qué papel juega el Consejo Superior en la realización de concursos propuestos por las Unidades Académicas?'}, {'from': 'gpt', 'value': 'Según el texto, el Consejo Superior es el destinatario de las propuestas de los Consejos Directivos y puede aceptar o rechazar la realización del concurso.'}]</td>\n",
       "    </tr>\n",
       "  </tbody>\n",
       "</table>\n",
       "</div>"
      ],
      "text/plain": [
       "                                                                                                                                                                                                                                                                                                                                                                                                                                                                                                                                                                                                                                                                                                                                                                                                                                                                                                                                                                                                                                                                                                                                                                                                                                                                messages\n",
       "0                                                                                                                                                                                                                                                                                                                                                                                                                                                                                                                                                                                                  [{'from': 'human', 'value': '¿Qué tipo de convocatorias se establecen en este capítulo?'}, {'from': 'gpt', 'value': 'Las convocatorias para la designación por Concurso de Profesores Ordinarios titulares, asociados y adjuntos.'}, {'from': 'human', 'value': '¿Cuáles son las áreas que integran los núcleos mencionados en el artículo?'}, {'from': 'gpt', 'value': 'No se especifica en este capítulo, pero se hace referencia a diferentes cátedras, áreas, núcleos, asignaturas y disciplinas.'}, {'from': 'human', 'value': '¿Quién debe aprobar las disposiciones dictadas por las Unidades Académicas?'}, {'from': 'gpt', 'value': 'El Consejo Superior.'}]\n",
       "1                                                                                                                                                                                                                                                                                                                                                                                                                                                                                                                             [{'from': 'human', 'value': '¿Qué tipo de información debe incluir cada Unidad Académica en su propuesta para la provisión de cargos de profesores?'}, {'from': 'gpt', 'value': 'La propuesta debe especificar las cátedras, áreas, núcleos, asignaturas que integran los núcleos, disciplinas y laboratorio a concursar.'}, {'from': 'human', 'value': '¿Qué tipo de categoría debe ser especificada en la propuesta para la provisión de cargos de profesores?'}, {'from': 'gpt', 'value': 'La categoría del cargo.'}, {'from': 'human', 'value': '¿Cuál es el plazo dentro del cual el Consejo Superior debe resolver sobre la solicitud de llamado?'}, {'from': 'gpt', 'value': 'Treinta (30) días después de recibir la solicitud.'}]\n",
       "2  [{'from': 'human', 'value': '¿Qué tipo de autoridad tienen los Consejos Directivos en las Unidades Académicas?'}, {'from': 'gpt', 'value': 'Según el texto, los Consejos Directivos tienen la capacidad de emitir resoluciones que permiten a las Unidades Académicas proponer la realización de concursos.'}, {'from': 'human', 'value': '¿Qué tipo de concursos pueden ser propuestos por las Unidades Académicas?'}, {'from': 'gpt', 'value': 'El texto no especifica qué tipo de concursos pueden ser propuestos, solo menciona que pueden ser conjuntos con otras Unidades Académicas de la misma Universidad.'}, {'from': 'human', 'value': '¿Hay algún límite o restricción para la cantidad de Unidades Académicas que puedan proponer un concurso?'}, {'from': 'gpt', 'value': 'No hay información en el texto sobre límites o restricciones para la cantidad de Unidades Académicas que puedan proponer un concurso.'}, {'from': 'human', 'value': '¿Qué papel juega el Consejo Superior en la realización de concursos propuestos por las Unidades Académicas?'}, {'from': 'gpt', 'value': 'Según el texto, el Consejo Superior es el destinatario de las propuestas de los Consejos Directivos y puede aceptar o rechazar la realización del concurso.'}]"
      ]
     },
     "metadata": {},
     "output_type": "display_data"
    }
   ],
   "source": [
    "# Ajustar la configuración para mostrar el DataFrame completo\n",
    "pd.set_option('display.max_rows', None)\n",
    "pd.set_option('display.max_columns', None)\n",
    "pd.set_option('display.max_colwidth', None)\n",
    "display(data)"
   ]
  },
  {
   "cell_type": "code",
   "execution_count": 67,
   "id": "0486bf6f-ca58-4bb1-922a-2384949fe625",
   "metadata": {},
   "outputs": [],
   "source": [
    "# Convierte el DataFrame en un Dataset de Hugging Face\n",
    "#dataset = Dataset.from_pandas(dataframe)\n",
    "\n",
    "# Crea un diccionario de datasets si hay más splits (No creo que sea necesario por ahora)\n",
    "#dataset_dict = DatasetDict({\"train\": dataset})\n",
    "\n",
    "# Sube el dataset a Hugging Face\n",
    "#dataset_dict.push_to_hub(\"tu_nombre_de_usuario/tu_nombre_de_dataset\")"
   ]
  },
  {
   "cell_type": "code",
   "execution_count": 67,
   "id": "3ddd0511-0c60-427b-b6d9-7dc9d2db3bc0",
   "metadata": {},
   "outputs": [],
   "source": [
    "##Obsevaciones:\n",
    "\n",
    " ## Parece que los prompts laburan mejor en inglés\n",
    "\n",
    " ## Si le quito el documento/articulo/capitulo parece que las pregunta y respuestas no hacen TANTA referencia al documento/convocatoria/capitulo\n",
    "\n",
    " ## Parece que se puede toquear el prompt hasta que dé mejores resultado, de todas formas con un modelo avanzado andaría mejor? \n",
    "\n",
    " ## De todas formas parece que el fine tuning no influye muco en que un modelo adquiera nuevo conocimiento, sino en poder modificar el comportamiento \n",
    "    #en la respuesta de los modelos, para lo otro sería mas útil usar un RAG\n",
    "    #Dicho esto, ¿Vale la pena que el data set tenga preguntas totalmente exactas y profundas si parece que no puede adquirir conocimiento?\n",
    "\n",
    " ## Lo que si se podría hacer con el fine tuning capaz es darle la capacidad para que tenga un formato de respuesta que responda con el\n",
    "    # DOCUMENTO - ARTICULO - CAPITULO; Capaz también puede adquirir mejor entendimiento de las palabras técnicas que tiene el documento;  \n",
    "    "
   ]
  }
 ],
 "metadata": {
  "kernelspec": {
   "display_name": "Python 3 (ipykernel)",
   "language": "python",
   "name": "python3"
  },
  "language_info": {
   "codemirror_mode": {
    "name": "ipython",
    "version": 3
   },
   "file_extension": ".py",
   "mimetype": "text/x-python",
   "name": "python",
   "nbconvert_exporter": "python",
   "pygments_lexer": "ipython3",
   "version": "3.11.9"
  }
 },
 "nbformat": 4,
 "nbformat_minor": 5
}
