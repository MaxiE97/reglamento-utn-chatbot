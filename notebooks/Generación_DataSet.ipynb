{
  "nbformat": 4,
  "nbformat_minor": 0,
  "metadata": {
    "colab": {
      "provenance": []
    },
    "kernelspec": {
      "name": "python3",
      "display_name": "Python 3"
    },
    "language_info": {
      "name": "python"
    }
  },
  "cells": [
    {
      "cell_type": "code",
      "source": [
        "!pip install datasets huggingface_hub -q"
      ],
      "metadata": {
        "id": "GqGW1FKaeKaE"
      },
      "execution_count": null,
      "outputs": []
    },
    {
      "cell_type": "code",
      "execution_count": null,
      "metadata": {
        "id": "EDit2TOuJtza"
      },
      "outputs": [],
      "source": [
        "# Use a pipeline as a high-level helper\n",
        "from google.colab import drive\n",
        "\n",
        "\n",
        "\n"
      ]
    },
    {
      "cell_type": "code",
      "source": [
        "import pandas as pd\n",
        "drive.mount('/content/drive')\n",
        "# Ruta al archivo\n",
        "ruta_archivo = \"/content/drive/MyDrive/Colab Notebooks/reglasmentoReducido.txt\"\n",
        "#ruta_archivo=\"/content/PreguntasRespuestasGPT.txt\"\n",
        "\n",
        "# Leer el archivo de texto del reglamento en español\n",
        "with open(ruta_archivo, \"r\", encoding=\"utf-8\") as file:\n",
        "    texto = file.read()\n",
        "\n",
        "# Divide el texto en artículos usando \"Documento:\" como delimitador\n",
        "articulos = texto.split(\"Documento:\")\n",
        "\n",
        "# Eliminar posibles espacios en blanco o líneas vacías y reconstruir cada artículo con \"Documento:\" al principio\n",
        "articulos = [\"Documento:\" + articulo.strip() for articulo in articulos if articulo.strip()]"
      ],
      "metadata": {
        "id": "GVolJJeSNUwy",
        "colab": {
          "base_uri": "https://localhost:8080/"
        },
        "outputId": "fa9067d3-354f-4ef0-bf0d-c81f6e0756ab"
      },
      "execution_count": null,
      "outputs": [
        {
          "output_type": "stream",
          "name": "stdout",
          "text": [
            "Drive already mounted at /content/drive; to attempt to forcibly remount, call drive.mount(\"/content/drive\", force_remount=True).\n"
          ]
        }
      ]
    },
    {
      "cell_type": "code",
      "source": [
        "#Cantidad de articulos en la lista\n",
        "print(f\"Se encontraron {len(articulos)} artículos.\")\n",
        "\n",
        "# Imprimir los primeros 3 artículos como ejemplo\n",
        "for articulo in articulos[:3]:\n",
        "    print(articulo)\n",
        "    print(\"-\"*80)"
      ],
      "metadata": {
        "colab": {
          "base_uri": "https://localhost:8080/"
        },
        "id": "PsrDyXpcEK31",
        "outputId": "6a595eda-46b5-4fed-c24c-4cfe611d1982"
      },
      "execution_count": null,
      "outputs": [
        {
          "output_type": "stream",
          "name": "stdout",
          "text": [
            "Se encontraron 9 artículos.\n",
            "Documento:8\n",
            "Articulo: 3\n",
            "Capitulo: I - CONVOCATORIA\n",
            "\n",
            "Norma General: Las convocatorias para la designación por Concurso de Profesores Ordinarios titulares, asociados y adjuntos para las diferentes cátedras, áreas, núcleos, asignaturas que integran los núcleos, disciplinas, laboratorio de las Facultades que integran esta Universidad se regirán por las disposiciones del presente Reglamento y las que en consecuencia dicten las Unidades Académicas, que deberán ser aprobadas por el Consejo Superior.\n",
            "--------------------------------------------------------------------------------\n",
            "Documento:8\n",
            "Articulo: 4\n",
            "Capitulo: I - CONVOCATORIA\n",
            "\n",
            "Cada Unidad Académica mediante Resolución del Consejo Directivo propondrá al Consejo Superior la provisión de cargos de profesores por concurso especificando lo siguiente: a) las cátedras, áreas, núcleos, asignaturas que integran los núcleos, disciplinas, laboratorio a concursar. b) La categoría. c) La dedicación. d) Si la imputación presupuestaria correspondiente al cargo llamado está afectada a la partida Gastos de Personal En todos los casos, el Consejo Superior deberá resolver sobre la solicitud de llamado dentro de los treinta (30) días de recibida.\n",
            "--------------------------------------------------------------------------------\n",
            "Documento:8\n",
            "Articulo: 5\n",
            "Capitulo: I - CONVOCATORIA\n",
            "\n",
            "Las Unidades Académicas mediante resolución de sus Consejos Directivos podrán proponer al Consejo Superior la realización de concursos conjuntamente con otras Unidades Académicas de esta Universidad.\n",
            "--------------------------------------------------------------------------------\n"
          ]
        }
      ]
    },
    {
      "cell_type": "markdown",
      "source": [
        "⛳ **En esta parte que sigue suponemos que encontramos la forma de que un LLM nos devuelva preguntas y respuestas para cada articulo**  (El posible output solamente es para ejemplificar, no esta hecho con el documento)"
      ],
      "metadata": {
        "id": "-cKWDt9VTGS5"
      }
    },
    {
      "cell_type": "code",
      "source": [
        "PosibleOutput1 = \"Pregunta: ¿Cómo deben presentar las Unidades Académicas la solicitud de provisión de cargos de profesores? Respuesta: Las Unidades Académicas deben presentar la solicitud mediante Resolución del Consejo Directivo. Pregunta: ¿Qué información deben incluir las Unidades Académicas en la solicitud de provisión de cargos de profesores? Respuesta: Las Unidades Académicas deben incluir la siguiente información: las cátedras, áreas, núcleos, asignaturas que integran los núcleos, disciplinas, laboratorio a concursar, la categoría y la dedicación. Pregunta: ¿Qué partida presupuestaria está relacionada con el cargo llamado? Respuesta: La partida presupuestaria relacionada con el cargo llamado es la partida Gastos de Personal. Pregunta: ¿Cuánto tiempo tiene el Consejo Superior para resolver sobre la solicitud de llamado? Respuesta: El Consejo Superior tiene treinta (30) días para resolver sobre la solicitud de llamado.\""
      ],
      "metadata": {
        "id": "Yi73CV1NczzI"
      },
      "execution_count": null,
      "outputs": []
    },
    {
      "cell_type": "code",
      "source": [
        "PosibleOutput2 = \"Pregunta: ¿Cuáles son los pasos para solicitar un permiso de investigación en el campus? Respuesta: Los pasos para solicitar un permiso de investigación en el campus incluyen llenar el formulario de solicitud, obtener la aprobación del supervisor del departamento, y presentar el formulario a la oficina de administración. Pregunta: ¿Qué documentos son necesarios para inscribirse en un curso de verano? Respuesta: Los documentos necesarios para inscribirse en un curso de verano son una copia del DNI, el formulario de inscripción completado, y el comprobante de pago de la matrícula. Pregunta: ¿Cuáles son los criterios para recibir una beca de excelencia académica? Respuesta: Los criterios para recibir una beca de excelencia académica incluyen tener un promedio general de al menos 8.5, no tener materias reprobadas, y presentar una carta de recomendación de un profesor. Pregunta: ¿Qué servicios ofrece la biblioteca para los estudiantes de posgrado? Respuesta: La biblioteca ofrece servicio\"\n"
      ],
      "metadata": {
        "id": "txUJnmbySdNX"
      },
      "execution_count": null,
      "outputs": []
    },
    {
      "cell_type": "code",
      "source": [
        "list_QA = [PosibleOutput1, PosibleOutput2]"
      ],
      "metadata": {
        "id": "B2Rk3IItSdHq"
      },
      "execution_count": null,
      "outputs": []
    },
    {
      "cell_type": "code",
      "source": [
        "def generar_pregunta_respuesta(articulo):\n",
        "    # Procesar múltiples preguntas y respuestas\n",
        "    pairs = []\n",
        "    segments = articulo.split(\"Pregunta:\")\n",
        "    for segment in segments[1:]:  # Ignorar el primer split que no contiene pregunta\n",
        "        if \"Respuesta:\" in segment:\n",
        "            question = segment.split(\"Respuesta:\")[0].strip()\n",
        "            answer = segment.split(\"Respuesta:\")[1].strip()\n",
        "            pairs.append({\"from\": \"human\", \"value\": question})\n",
        "            pairs.append({\"from\": \"gpt\", \"value\": answer})\n",
        "    return pairs"
      ],
      "metadata": {
        "id": "PDjhtH-ill48"
      },
      "execution_count": null,
      "outputs": []
    },
    {
      "cell_type": "code",
      "source": [
        "def generar_dataset(lista_articulos):\n",
        "    dataset = []\n",
        "    for articulo in lista_articulos:\n",
        "        pairs = generar_pregunta_respuesta(articulo)\n",
        "        dataset.append({'messages': pairs})\n",
        "    return pd.DataFrame(dataset)"
      ],
      "metadata": {
        "id": "johHsJ1blvvK"
      },
      "execution_count": null,
      "outputs": []
    },
    {
      "cell_type": "code",
      "source": [
        "dataframe = generar_dataset(list_QA)\n"
      ],
      "metadata": {
        "id": "hQYNFH7VVQeG"
      },
      "execution_count": null,
      "outputs": []
    },
    {
      "cell_type": "code",
      "source": [
        "print(dataframe)\n",
        "# Guardar el DataFrame en un archivo CSV si fuera necesario\n",
        "#df.to_csv('dataset.csv', index=False)\n",
        "\n"
      ],
      "metadata": {
        "colab": {
          "base_uri": "https://localhost:8080/"
        },
        "id": "t7xb9r3HVXLo",
        "outputId": "56dcabcc-2a7f-4de7-827e-eed60698b4dc"
      },
      "execution_count": null,
      "outputs": [
        {
          "output_type": "stream",
          "name": "stdout",
          "text": [
            "                                            messages\n",
            "0  [{'from': 'human', 'value': '¿Cómo deben prese...\n",
            "1  [{'from': 'human', 'value': '¿Cuáles son los p...\n"
          ]
        }
      ]
    },
    {
      "cell_type": "markdown",
      "source": [
        "La parte de acá sería para subir el dataset a Hugging Face"
      ],
      "metadata": {
        "id": "KgCk3Ybpejn0"
      }
    },
    {
      "cell_type": "code",
      "source": [
        "\n",
        "from datasets import Dataset, DatasetDict\n"
      ],
      "metadata": {
        "id": "dda1mEQMdsDF"
      },
      "execution_count": null,
      "outputs": []
    },
    {
      "cell_type": "code",
      "source": [
        "# Convierte el DataFrame en un Dataset de Hugging Face\n",
        "dataset = Dataset.from_pandas(dataframe)\n",
        "\n",
        "# Crea un diccionario de datasets si hay más splits (No creo que sea necesario por ahora)\n",
        "#dataset_dict = DatasetDict({\"train\": dataset})\n",
        "\n",
        "# Sube el dataset a Hugging Face\n",
        "#dataset_dict.push_to_hub(\"tu_nombre_de_usuario/tu_nombre_de_dataset\")"
      ],
      "metadata": {
        "id": "oWJ8JT18aEXO"
      },
      "execution_count": null,
      "outputs": []
    }
  ]
}