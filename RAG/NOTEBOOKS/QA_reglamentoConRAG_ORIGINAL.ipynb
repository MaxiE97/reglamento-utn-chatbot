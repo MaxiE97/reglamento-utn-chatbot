{
 "cells": [
  {
   "cell_type": "markdown",
   "id": "f44fdd08-e73d-47bd-944b-47630f886b5d",
   "metadata": {},
   "source": [
    "# Dependencias y modelo de embedding "
   ]
  },
  {
   "cell_type": "code",
   "execution_count": 33,
   "id": "52dc221a-df0e-480f-84f4-87cff7593450",
   "metadata": {},
   "outputs": [],
   "source": [
    "!pip install langchain -q\n",
    "!pip install langchain_community -q\n",
    "!pip install pandas -q\n",
    "!pip install datasets huggingface_hub -q\n",
    "!pip install PyPDF2 -q\n",
    "!pip install -U sentence-transformers -q\n",
    "!pip install -U langchain-ollama -q\n",
    "!pip install einops -q\n",
    "!pip install matplotlib -q"
   ]
  },
  {
   "cell_type": "code",
   "execution_count": 49,
   "id": "39b4f557-2f4c-42a2-8d1a-703ff29575d9",
   "metadata": {},
   "outputs": [],
   "source": [
    "import ollama\n",
    "import pandas as pd\n",
    "from datasets import Dataset\n",
    "import PyPDF2\n",
    "from PyPDF2 import PdfReader\n",
    "from sentence_transformers import SentenceTransformer\n",
    "from sklearn.metrics.pairwise import cosine_similarity\n",
    "from datasets import load_dataset\n",
    "import matplotlib.pyplot as plt\n",
    "\n"
   ]
  },
  {
   "cell_type": "markdown",
   "id": "672a271f-aadb-4aff-b1d3-5329c8906b03",
   "metadata": {},
   "source": [
    "### Seleccionar el modelo de embedding "
   ]
  },
  {
   "cell_type": "code",
   "execution_count": 5,
   "id": "41c3cc48-2f60-4367-977d-407175ba8866",
   "metadata": {},
   "outputs": [
    {
     "name": "stderr",
     "output_type": "stream",
     "text": [
      "<All keys matched successfully>\n"
     ]
    }
   ],
   "source": [
    "#model = SentenceTransformer('espejelomar/sentece-embeddings-BETO')\n",
    "model = SentenceTransformer(\"nomic-ai/nomic-embed-text-v1\", trust_remote_code=True)"
   ]
  },
  {
   "cell_type": "markdown",
   "id": "2ea015e9-c4ab-4db4-993a-5d37867bd048",
   "metadata": {
    "jp-MarkdownHeadingCollapsed": true
   },
   "source": [
    "# Creación de embeddings del reglamento"
   ]
  },
  {
   "cell_type": "code",
   "execution_count": 7,
   "id": "2a2a6da5-fb1c-4abf-80ff-e0ca1d596719",
   "metadata": {},
   "outputs": [
    {
     "name": "stdout",
     "output_type": "stream",
     "text": [
      "Existen 674 artículos.\n"
     ]
    }
   ],
   "source": [
    "with open(\"_Reglamento.txt\", \"r\", encoding=\"utf-8\") as file:\n",
    "    texto  = file.read()\n",
    "\n",
    "articulos = texto.split(\"Documento:\")\n",
    "articulos = [\"Documento:\" + articulo.strip() for articulo in articulos if articulo.strip()]\n",
    "print(f\"Existen {len(articulos)} artículos.\")"
   ]
  },
  {
   "cell_type": "code",
   "execution_count": 9,
   "id": "3887d1b6-3b27-4596-94ba-b09d83cc2bc0",
   "metadata": {},
   "outputs": [],
   "source": [
    "articles_embedding = []\n",
    "for i,article in enumerate(articulos):\n",
    "    article_embedding = model.encode(article)\n",
    "    articles_embedding.append((i, article_embedding))"
   ]
  },
  {
   "cell_type": "markdown",
   "id": "a762bdd5-44df-491d-97ba-57c3d3b5c6d0",
   "metadata": {
    "jp-MarkdownHeadingCollapsed": true
   },
   "source": [
    "# Retrival: recuperación de articulos más similares"
   ]
  },
  {
   "cell_type": "code",
   "execution_count": 12,
   "id": "241d610b-1cce-4433-8b97-8e15aecdedc5",
   "metadata": {},
   "outputs": [],
   "source": [
    "def devolver_N_articulos_similares(pregunta, model, articles_embedding, articulos,N):\n",
    "    question_embedding = model.encode(pregunta)\n",
    "    results = []\n",
    "    \n",
    "    for i, article_embedding in articles_embedding:  \n",
    "        distance = cosine_similarity(article_embedding.reshape((1, -1)), question_embedding.reshape((1, -1)))[0][0]\n",
    "        results.append((articulos[i], distance))\n",
    "    \n",
    "    results = sorted(results, key=lambda x: x[1], reverse=True)[:N]\n",
    "    \n",
    "    return results\n"
   ]
  },
  {
   "cell_type": "code",
   "execution_count": 13,
   "id": "3ea2f3bc-8333-4201-99b9-a05eeb81e7ce",
   "metadata": {},
   "outputs": [],
   "source": [
    "def funcionArticuloEncontrado(lista_articulos_proximos, articulo_correcto):\n",
    "    for i, (article, _) in enumerate(lista_articulos_proximos):\n",
    "        if articulo_correcto.strip() == article.strip():\n",
    "            return i + 1 \n",
    "    return None  "
   ]
  },
  {
   "cell_type": "markdown",
   "id": "c8ffaf88-c12c-4554-9d46-5405e544da50",
   "metadata": {},
   "source": [
    "# Sección de pruebas y evaluación "
   ]
  },
  {
   "cell_type": "markdown",
   "id": "e3e0ee99-de31-48ba-9c8d-eca7da6df050",
   "metadata": {},
   "source": [
    "## Importanción de DataSet de preguntas etiquetadas\n"
   ]
  },
  {
   "cell_type": "code",
   "execution_count": 14,
   "id": "0588409d-c6b4-45f5-8584-a2d4f18be82b",
   "metadata": {},
   "outputs": [
    {
     "data": {
      "text/html": [
       "<div>\n",
       "<style scoped>\n",
       "    .dataframe tbody tr th:only-of-type {\n",
       "        vertical-align: middle;\n",
       "    }\n",
       "\n",
       "    .dataframe tbody tr th {\n",
       "        vertical-align: top;\n",
       "    }\n",
       "\n",
       "    .dataframe thead th {\n",
       "        text-align: right;\n",
       "    }\n",
       "</style>\n",
       "<table border=\"1\" class=\"dataframe\">\n",
       "  <thead>\n",
       "    <tr style=\"text-align: right;\">\n",
       "      <th></th>\n",
       "      <th>idConsulta</th>\n",
       "      <th>Consulta</th>\n",
       "      <th>Articulo</th>\n",
       "      <th>Texto</th>\n",
       "    </tr>\n",
       "  </thead>\n",
       "  <tbody>\n",
       "    <tr>\n",
       "      <th>0</th>\n",
       "      <td>1</td>\n",
       "      <td>Cuales son las condiciones para presentarse a...</td>\n",
       "      <td>9</td>\n",
       "      <td>Documento:8\\nArticulo: 9\\nCapitulo: III - INSC...</td>\n",
       "    </tr>\n",
       "    <tr>\n",
       "      <th>1</th>\n",
       "      <td>2</td>\n",
       "      <td>Quién debe regir la convocatoria para la desi...</td>\n",
       "      <td>3</td>\n",
       "      <td>Documento:8\\nArticulo: 3\\nCapitulo: I - CONVOC...</td>\n",
       "    </tr>\n",
       "    <tr>\n",
       "      <th>2</th>\n",
       "      <td>3</td>\n",
       "      <td>Cómo se publicita un llamado a concurso?</td>\n",
       "      <td>6</td>\n",
       "      <td>Documento:8\\nArticulo: 6\\nCapitulo: II - PUBLI...</td>\n",
       "    </tr>\n",
       "    <tr>\n",
       "      <th>3</th>\n",
       "      <td>4</td>\n",
       "      <td>Qué contenido tienen los anuncios?</td>\n",
       "      <td>8</td>\n",
       "      <td>Documento:8\\nArticulo: 8\\nCapitulo: II - PUBLI...</td>\n",
       "    </tr>\n",
       "    <tr>\n",
       "      <th>4</th>\n",
       "      <td>5</td>\n",
       "      <td>Cuales son los requisitos para los aspirantes...</td>\n",
       "      <td>9</td>\n",
       "      <td>Documento:8\\nArticulo: 9\\nCapitulo: III - INSC...</td>\n",
       "    </tr>\n",
       "    <tr>\n",
       "      <th>...</th>\n",
       "      <td>...</td>\n",
       "      <td>...</td>\n",
       "      <td>...</td>\n",
       "      <td>...</td>\n",
       "    </tr>\n",
       "    <tr>\n",
       "      <th>295</th>\n",
       "      <td>296</td>\n",
       "      <td>Cual es la responsabilidad principal del Esta...</td>\n",
       "      <td>315</td>\n",
       "      <td>Documento:14\\nArticulo: 315\\nCapitulo: TÍTULO ...</td>\n",
       "    </tr>\n",
       "    <tr>\n",
       "      <th>296</th>\n",
       "      <td>297</td>\n",
       "      <td>Que sucede cuando una carrera no obtiene su a...</td>\n",
       "      <td>299</td>\n",
       "      <td>Documento:13\\nArticulo: 299\\nCapitulo: TÍTULO ...</td>\n",
       "    </tr>\n",
       "    <tr>\n",
       "      <th>297</th>\n",
       "      <td>298</td>\n",
       "      <td>Quienes seran los organos de coordinacion y c...</td>\n",
       "      <td>294</td>\n",
       "      <td>Documento:13\\nArticulo: 294\\nCapitulo: TÍTULO ...</td>\n",
       "    </tr>\n",
       "    <tr>\n",
       "      <th>298</th>\n",
       "      <td>299</td>\n",
       "      <td>Que atribuciones tiene la autonomia academica...</td>\n",
       "      <td>250</td>\n",
       "      <td>Documento:13\\nArticulo: 250\\nCapitulo: TÍTULO ...</td>\n",
       "    </tr>\n",
       "    <tr>\n",
       "      <th>299</th>\n",
       "      <td>300</td>\n",
       "      <td>Cuales son los deberes de los docentes de las...</td>\n",
       "      <td>233</td>\n",
       "      <td>Documento:13\\nArticulo: 233\\nCapitulo: TÍTULO ...</td>\n",
       "    </tr>\n",
       "  </tbody>\n",
       "</table>\n",
       "<p>300 rows × 4 columns</p>\n",
       "</div>"
      ],
      "text/plain": [
       "     idConsulta                                           Consulta Articulo  \\\n",
       "0             1   Cuales son las condiciones para presentarse a...        9   \n",
       "1             2   Quién debe regir la convocatoria para la desi...        3   \n",
       "2             3           Cómo se publicita un llamado a concurso?        6   \n",
       "3             4                 Qué contenido tienen los anuncios?        8   \n",
       "4             5   Cuales son los requisitos para los aspirantes...        9   \n",
       "..          ...                                                ...      ...   \n",
       "295         296   Cual es la responsabilidad principal del Esta...      315   \n",
       "296         297   Que sucede cuando una carrera no obtiene su a...      299   \n",
       "297         298   Quienes seran los organos de coordinacion y c...      294   \n",
       "298         299   Que atribuciones tiene la autonomia academica...      250   \n",
       "299         300   Cuales son los deberes de los docentes de las...      233   \n",
       "\n",
       "                                                 Texto  \n",
       "0    Documento:8\\nArticulo: 9\\nCapitulo: III - INSC...  \n",
       "1    Documento:8\\nArticulo: 3\\nCapitulo: I - CONVOC...  \n",
       "2    Documento:8\\nArticulo: 6\\nCapitulo: II - PUBLI...  \n",
       "3    Documento:8\\nArticulo: 8\\nCapitulo: II - PUBLI...  \n",
       "4    Documento:8\\nArticulo: 9\\nCapitulo: III - INSC...  \n",
       "..                                                 ...  \n",
       "295  Documento:14\\nArticulo: 315\\nCapitulo: TÍTULO ...  \n",
       "296  Documento:13\\nArticulo: 299\\nCapitulo: TÍTULO ...  \n",
       "297  Documento:13\\nArticulo: 294\\nCapitulo: TÍTULO ...  \n",
       "298  Documento:13\\nArticulo: 250\\nCapitulo: TÍTULO ...  \n",
       "299  Documento:13\\nArticulo: 233\\nCapitulo: TÍTULO ...  \n",
       "\n",
       "[300 rows x 4 columns]"
      ]
     },
     "execution_count": 14,
     "metadata": {},
     "output_type": "execute_result"
    }
   ],
   "source": [
    "dataset = load_dataset(\"HuggMaxi/preguntasEtiquetadas\")\n",
    "df_preguntasEtiquetadas = pd.DataFrame(dataset['train'])  \n",
    "df_preguntasEtiquetadas"
   ]
  },
  {
   "cell_type": "markdown",
   "id": "805d0ac8-b425-4824-b044-767f3a4d6b71",
   "metadata": {},
   "source": [
    "## Evaluación por consulta individual "
   ]
  },
  {
   "cell_type": "code",
   "execution_count": 36,
   "id": "26aa7300-7763-4dd4-a04d-e41ab282f94b",
   "metadata": {},
   "outputs": [
    {
     "name": "stdout",
     "output_type": "stream",
     "text": [
      "CONSULTA:  Cuales son las condiciones para presentarse a un concurso?\n",
      "POSICION: None\n",
      "*********************************************\n",
      "Documento:8\n",
      "Articulo: 9\n",
      "Capitulo: III - INSCRIPCIÓN\n",
      "\n",
      "Condiciones de los aspirantes: Para presentarse a Concurso el aspirante debe reunir los siguientes requisitos: a) Tener título universitario de grado o en su defecto acreditar antecedentes excepcionales que lo suplan, y b) no estar comprendido en las causales de inhabilitación para el desempeño de cargos públicos y de faltas a la ética universitaria que se mencionan en el artículo 18 del presente Reglamento.\n",
      "*********************************************\n"
     ]
    }
   ],
   "source": [
    "idConsulta = 1\n",
    "texto_objetivo = df_preguntasEtiquetadas[df_preguntasEtiquetadas['idConsulta'] == idConsulta]['Texto'].values[0]\n",
    "pregunta_consulta = df_preguntasEtiquetadas[df_preguntasEtiquetadas['idConsulta'] == idConsulta]['Consulta'].values[0]\n",
    "\n",
    "resultadoArticulosEncontrados = devolver_N_articulos_similares(pregunta_consulta, model, articles_embedding, articulos,10)\n",
    "resultadoPosicion = funcionArticuloEncontrado(resultadoArticulosEncontrados, texto_objetivo)\n",
    "\n",
    "print(f\"CONSULTA: {pregunta_consulta}\")\n",
    "print(f\"POSICION: {resultadoPosicion}\")\n",
    "print(\"*********************************************\")\n",
    "print(texto_objetivo)\n",
    "print(\"*********************************************\")\n",
    "\n"
   ]
  },
  {
   "cell_type": "code",
   "execution_count": 37,
   "id": "c25a8324-6dd7-4622-9d71-f402cd70be37",
   "metadata": {},
   "outputs": [
    {
     "name": "stdout",
     "output_type": "stream",
     "text": [
      "-------------------------------------- 1\n",
      "Documento:9\n",
      "Articulo: 68\n",
      "Capitulo: \n",
      "\n",
      "Apruébese el Reglamento de Concurso docente de Antecedentes con Presentación de Proyectos para la provisión de cargos docentes interinos, el que regirá para la cobertura de espacios curriculares en las distintas carreras que se cursan en esta Facultad, y cuyo texto pasa a formar parte de la presente como Anexo Único.\n",
      "\n",
      "-------------------------------------- 2\n",
      "Documento:10007\n",
      "Articulo: 10120\n",
      "Capitulo: DE LOS CONSEJOS DE CARRERA\n",
      "\n",
      "Para ser electo como representantes docentes en el consejo de carrera y para ser electos de los mismos se requiere cumplir las condiciones fijadas en el articulo 17º del presente.\n",
      "\n",
      "-------------------------------------- 3\n",
      "Documento:15\n",
      "Articulo: 442\n",
      "Capitulo: TÍTULO IV: DE LOS CUERPOS UNIVERSITARIOS. SECCIÓN A: De los Docentes Universitarios\n",
      "\n",
      "Los Consejos Directivos podrán, cuando ello sea imprescindible, designar temporariamente Docentes Interinos y mientras se sustancie el correspondiente concurso.\n",
      "\n",
      "-------------------------------------- 4\n",
      "Documento:10006\n",
      "Articulo: 10083\n",
      "Capitulo: Sobre Los Plazos.\n",
      "\n",
      "La tesis debe ser presentada al jurado con una antelación no menor a 30 días de la fecha de presentación. Las eventuales correcciones o cambios en la presentación conducirán a un nuevo plazo de 30 días u deberán ser informadas al tesista, al Director de Tesis y a la Secretaría Académica en un plazo no mayor a los 20 días a partir de la fecha de recepción de la tesis.\n",
      "\n",
      "-------------------------------------- 5\n",
      "Documento:8\n",
      "Articulo: 5\n",
      "Capitulo: I - CONVOCATORIA\n",
      "\n",
      "Las Unidades Académicas mediante resolución de sus Consejos Directivos podrán proponer al Consejo Superior la realización de concursos conjuntamente con otras Unidades Académicas de esta Universidad.\n",
      "\n",
      "-------------------------------------- 6\n",
      "Documento:8\n",
      "Articulo: 4\n",
      "Capitulo: I - CONVOCATORIA\n",
      "\n",
      "Cada Unidad Académica mediante Resolución del Consejo Directivo propondrá al Consejo Superior la provisión de cargos de profesores por concurso especificando lo siguiente: a) las cátedras, áreas, núcleos, asignaturas que integran los núcleos, disciplinas, laboratorio a concursar. b) La categoría. c) La dedicación. d) Si la imputación presupuestaria correspondiente al cargo llamado está afectada a la partida Gastos de Personal En todos los casos, el Consejo Superior deberá resolver sobre la solicitud de llamado dentro de los treinta (30) días de recibida.\n",
      "\n",
      "-------------------------------------- 7\n",
      "Documento:8\n",
      "Articulo: 52\n",
      "Capitulo: VIII - RESOLUCIÓN DEL CONCURSO\n",
      "\n",
      "El Consejo Superior podrá solicitar aclaraciones sobre la o las propuestas del Consejo Directivo, en cuyo caso este deberá expedirse dentro de los quince (15) días de tomar conocimiento de la solicitud. En un plazo no mayor de veinticuatro (24) días de recibida la propuesta y/o las aclaraciones de dicho órgano, podrá aceptar la propuesta del Consejo Directivo, o rechazarla. Si la propuesta fuera rechazada el Concurso quedará sin efecto. Dicha resolución se notificará a los interesados y será difundida a través de las carteleras murales y de la página electrónica de la Unidad Académica correspondiente. En los Concursos en los que no se formulen propuestas para la totalidad de los cargos concursados, los que no se provean serán declarados desiertos.\n",
      "\n",
      "-------------------------------------- 8\n",
      "Documento:8\n",
      "Articulo: 27\n",
      "Capitulo: V - DESIGNACIÓN DEL JURADO\n",
      "\n",
      "Los integrantes del Jurado deberán reunir las siguientes condiciones: Los docentes: a) Ser o haber sido profesor por concurso de categoría no inferior a la del cargo en concurso, habiendo accedido a este por concurso publico y abierto de antecedentes y oposición. b) Por lo menos dos (2) titulares del Jurado deberán pertenecer o haber pertenecido a otras Universidades Nacionales y/o Provinciales. De sus tres miembros titulares, únicamente uno de ellos podrá pertenecer a la UADER. c) Poseer versación reconocida en el área del conocimiento específico o técnico, motivo del Concurso. Los estudiantes: a) Ser alumno regular de la Unidad Académica en cuestión. b) Haber aprobado la materia en Concurso. c) Tener aprobada como mínimo la mitad de la carrera.\n",
      "\n",
      "-------------------------------------- 9\n",
      "Documento:11\n",
      "Articulo: 205\n",
      "Capitulo: DE LOS CONSEJOS DE CARRERA\n",
      "\n",
      "Las elecciones de representantes a Consejo de Carrera se realizarán conjuntamente con las de Director de Carrera y Jefes de Departamento.\n",
      "\n",
      "-------------------------------------- 10\n",
      "Documento:10006\n",
      "Articulo: 10067\n",
      "Capitulo: Del Codirector.\n",
      "\n",
      "La propuesta sobre la participación de un codirector la deberá presentar por escrito el propio estudiante. En el caso de que se trate de una persona ajena a la Universidad Autónoma de Entre Ríos deberá anexar una copia de su curriculum.\n",
      "\n"
     ]
    }
   ],
   "source": [
    "for i in range(len(resultadoArticulosEncontrados)):\n",
    "    print(f\"-------------------------------------- {i + 1}\")\n",
    "    print(resultadoArticulosEncontrados[i][0])\n",
    "    print()  "
   ]
  },
  {
   "cell_type": "markdown",
   "id": "ee9eb75b-663b-4ef4-b1b0-943a38a099f4",
   "metadata": {
    "jp-MarkdownHeadingCollapsed": true
   },
   "source": [
    "## Creación de Dataset de resultados "
   ]
  },
  {
   "cell_type": "code",
   "execution_count": 24,
   "id": "037b974a-1e82-4ba1-b6ee-2683f324f729",
   "metadata": {},
   "outputs": [
    {
     "name": "stdout",
     "output_type": "stream",
     "text": [
      "     idConsulta                                           Consulta  Posicion\n",
      "0             1   Cuales son las condiciones para presentarse a...       NaN\n",
      "1             2   Quién debe regir la convocatoria para la desi...       1.0\n",
      "2             3           Cómo se publicita un llamado a concurso?       1.0\n",
      "3             4                 Qué contenido tienen los anuncios?       7.0\n",
      "4             5   Cuales son los requisitos para los aspirantes...       1.0\n",
      "..          ...                                                ...       ...\n",
      "295         296   Cual es la responsabilidad principal del Esta...       9.0\n",
      "296         297   Que sucede cuando una carrera no obtiene su a...       1.0\n",
      "297         298   Quienes seran los organos de coordinacion y c...       7.0\n",
      "298         299   Que atribuciones tiene la autonomia academica...       NaN\n",
      "299         300   Cuales son los deberes de los docentes de las...       2.0\n",
      "\n",
      "[300 rows x 3 columns]\n"
     ]
    }
   ],
   "source": [
    "batch_size = 10  # Tamaño del lote\n",
    "total_consultas = len(df_preguntasEtiquetadas)\n",
    "resultados = []  # Lista para almacenar los resultados antes de crear el DataFrame final\n",
    "\n",
    "for start in range(0, total_consultas, batch_size):\n",
    "    # Definir el rango de consultas en el lote\n",
    "    end = min(start + batch_size, total_consultas)\n",
    "    batch_df = df_preguntasEtiquetadas.iloc[start:end]\n",
    "    \n",
    "    for _, row in batch_df.iterrows():\n",
    "        idCon = row['idConsulta']\n",
    "        pregunta_consulta = row['Consulta']\n",
    "        texto_consulta = row['Texto']\n",
    "        \n",
    "        # Obtener los N artículos más similares (N=10 en este caso)\n",
    "        resultadoPrueba1 = devolver_N_articulos_similares(pregunta_consulta, model, articles_embedding, articulos, 10)\n",
    "        \n",
    "        # Encontrar la posición del artículo correcto\n",
    "        resultadoPosicion = funcionArticuloEncontrado(resultadoPrueba1, texto_consulta)\n",
    "        \n",
    "        # Agregar el resultado a la lista de resultados\n",
    "        resultados.append({\n",
    "            'idConsulta': idCon,\n",
    "            'Consulta': pregunta_consulta,\n",
    "            'Posicion': resultadoPosicion\n",
    "        })\n",
    "\n",
    "# Convertir la lista de resultados en un DataFrame\n",
    "resultados_df = pd.DataFrame(resultados)\n",
    "\n",
    "# Mostrar el DataFrame\n",
    "print(resultados_df)\n"
   ]
  },
  {
   "cell_type": "code",
   "execution_count": 38,
   "id": "6cfd385c-6ac7-45c9-9c7d-dd6c90135ca6",
   "metadata": {},
   "outputs": [],
   "source": [
    "#Convertir 'Posicion' a enteros, manejando los valores NaN como -1\n",
    "resultados_df['Posicion'] = resultados_df['Posicion'].fillna(-1).astype(int)"
   ]
  },
  {
   "cell_type": "code",
   "execution_count": 26,
   "id": "6ac35c11-1c14-48ba-abfc-55446d3f2978",
   "metadata": {},
   "outputs": [],
   "source": [
    "#Opcional guardar Dataset\n",
    "\n",
    "\n",
    "#csv_path = r'C:\\Users\\Usuario\\Documents\\GIBD\\Archivos_CHATBOT_Reglamentacion\\resultados_2.csv'\n",
    "#resultados_df.to_csv(csv_path, index=False)\n"
   ]
  },
  {
   "cell_type": "markdown",
   "id": "4be07edd-9f90-4c3c-9d5d-a73e0163f799",
   "metadata": {},
   "source": [
    "## Vizualización de resultados"
   ]
  },
  {
   "cell_type": "code",
   "execution_count": 60,
   "id": "451bd271-f8c6-4e47-a36b-ed84458ee587",
   "metadata": {},
   "outputs": [],
   "source": [
    "# RUTAS  EN LA PC DEL LABORATORIO\n",
    "\n",
    "#csv_path = r'C:\\Users\\Usuario\\Documents\\GIBD\\RAG\\dataSets_Resultados\\resultados_beto_llama31_individual.csv'\n",
    "#csv_path = r'C:\\Users\\Usuario\\Documents\\GIBD\\RAG\\dataSets_Resultados\\resultados_nomic_llama31_individual.csv'\n",
    "\n",
    "#csv_path = r'C:\\Users\\Usuario\\Documents\\GIBD\\RAG\\dataSets_Resultados\\resultados_nomic_llama31_similares_TRES.csv'\n",
    "#csv_path = r'C:\\Users\\Usuario\\Documents\\GIBD\\RAG\\dataSets_Resultados\\resultados_nomic_llama31_similares_DIEZ.csv'\n"
   ]
  },
  {
   "cell_type": "code",
   "execution_count": 55,
   "id": "9207d4f3-6bb8-4268-bc33-8df7e61fab71",
   "metadata": {},
   "outputs": [
    {
     "name": "stdout",
     "output_type": "stream",
     "text": [
      "   idConsulta                                preguntas_similares  Posicion\n",
      "0           1  Cuales son las condiciones para presentarse a ...        -1\n",
      "1           2  Quién debe regir la convocatoria para la desig...         1\n",
      "2           3  Cómo se publicita un llamado a concurso?\\nCómo...         1\n",
      "3           4  Qué contenido tienen los anuncios?\\n¿Cuál es l...         1\n",
      "4           5  Cuales son los requisitos para los aspirantes ...         1\n"
     ]
    }
   ],
   "source": [
    "# Cargar el archivo CSV en un DataFrame, si es un DataSet importado \n",
    "csv_path = r'C:\\Users\\Usuario\\Documents\\GIBD\\RAG\\dataSets_Resultados\\resultados_nomic_llama31_similares_TRES.csv'\n",
    "resultadosCSV_df = pd.read_csv(csv_path)\n",
    "resultados_df = resultadosCSV_df\n",
    "print(resultadosCSV_df .head())"
   ]
  },
  {
   "cell_type": "code",
   "execution_count": 57,
   "id": "5f78a5e0-c833-4b06-9b6c-843ae1619213",
   "metadata": {},
   "outputs": [
    {
     "name": "stdout",
     "output_type": "stream",
     "text": [
      "Cuales son las condiciones para presentarse a un concurso?\n",
      "¿Qué requisitos hay que cumplir para participar en una competencia académica?\n",
      "¿Cuáles son los criterios para acceder a un proceso de selección?\n"
     ]
    }
   ],
   "source": [
    "# Mirar si es la columna Consulta preguntas_similares, dependiendo el dataSet que se cargue\n",
    "\n",
    "idConsulta = 1\n",
    "pregunta_consulta = resultados_df[df_preguntasEtiquetadas['idConsulta'] == idConsulta]['preguntas_similares'].values[0]\n",
    "print(pregunta_consulta)"
   ]
  },
  {
   "cell_type": "code",
   "execution_count": 58,
   "id": "59734c5d-3ba3-4a58-8dc6-c2a2181c7cf0",
   "metadata": {},
   "outputs": [
    {
     "data": {
      "image/png": "[encoded data removed]",
      "text/plain": [
       "<Figure size 1200x600 with 1 Axes>"
      ]
     },
     "metadata": {},
     "output_type": "display_data"
    },
    {
     "name": "stdout",
     "output_type": "stream",
     "text": [
      "Resultados detallados:\n",
      "1-3: 64.3% (193 preguntas)\n",
      "4-6: 11.3% (33 preguntas)\n",
      "7-10: 4.7% (14 preguntas)\n",
      "No aparece: 19.7% (58 preguntas)\n"
     ]
    }
   ],
   "source": [
    "# Función para categorizar las posiciones\n",
    "def categorizar_posicion(pos):\n",
    "    if pos == -1:\n",
    "        return 'No aparece'\n",
    "    elif 1 <= pos <= 3:\n",
    "        return '1-3'\n",
    "    elif 4 <= pos <= 6:\n",
    "        return '4-6'\n",
    "    elif 7 <= pos <= 10:\n",
    "        return '7-10'\n",
    "    else:\n",
    "        return 'No aparece'\n",
    "\n",
    "# Aplicar la categorización\n",
    "resultados_df['Categoria'] = resultados_df['Posicion'].apply(categorizar_posicion)\n",
    "\n",
    "# Calcular los porcentajes y conteos\n",
    "conteo = resultados_df['Categoria'].value_counts()\n",
    "porcentajes = (conteo / len(resultados_df)) * 100\n",
    "\n",
    "# Ordenar las categorías\n",
    "orden_categorias = ['1-3', '4-6', '7-10', 'No aparece']\n",
    "conteo = conteo.reindex(orden_categorias)\n",
    "porcentajes = porcentajes.reindex(orden_categorias)\n",
    "\n",
    "# Crear el gráfico\n",
    "plt.figure(figsize=(12, 6))\n",
    "colores = ['#98FB98', '#FFFF99', '#FF6347', '#D3D3D3']  # Verde, Amarillo pastel, Rojo oscuro, Gris (pasteles)\n",
    "barras = plt.bar(porcentajes.index, porcentajes.values, color=colores)\n",
    "\n",
    "plt.title('Distribución de Posiciones para nomic-embed-text-v1 ', fontsize=16)\n",
    "plt.xlabel('Categorías de Posición en lista de articulos similares', fontsize=12)\n",
    "plt.ylabel('Porcentaje', fontsize=12)\n",
    "plt.ylim(0, 100)\n",
    "\n",
    "# Añadir etiquetas de porcentaje encima de cada barra\n",
    "for barra in barras:\n",
    "    altura = barra.get_height()\n",
    "    plt.text(barra.get_x() + barra.get_width()/2, altura,\n",
    "             f'{altura:.1f}%\\n({int(altura*len(resultados_df)/100)})',\n",
    "             ha='center', va='bottom', fontsize=10)\n",
    "\n",
    "plt.tight_layout()\n",
    "plt.show()\n",
    "\n",
    "# Imprimir resultados detallados\n",
    "print(\"Resultados detallados:\")\n",
    "for categoria, porcentaje in porcentajes.items():\n",
    "    num_preguntas = int(porcentaje * len(resultados_df) / 100)\n",
    "    print(f\"{categoria}: {porcentaje:.1f}% ({num_preguntas} preguntas)\")\n"
   ]
  },
  {
   "cell_type": "code",
   "execution_count": 59,
   "id": "81bb0672-e0c2-4da9-b567-50da82c965c9",
   "metadata": {},
   "outputs": [
    {
     "name": "stdout",
     "output_type": "stream",
     "text": [
      "Resumen de cantidad por posición:\n",
      "Posición 1: 121\n",
      "Posición 2: 42\n",
      "Posición 3: 30\n",
      "Posición 4: 12\n",
      "Posición 5: 13\n",
      "Posición 6: 9\n",
      "Posición 7: 8\n",
      "Posición 8: 3\n",
      "Posición 9: 3\n",
      "Posición 10: 0\n",
      "No encontradas: 59\n",
      "\n",
      "Preguntas detalladas por posición:\n",
      "\n",
      "Posición 1:\n"
     ]
    },
    {
     "ename": "KeyError",
     "evalue": "'Consulta'",
     "output_type": "error",
     "traceback": [
      "\u001b[1;31m---------------------------------------------------------------------------\u001b[0m",
      "\u001b[1;31mKeyError\u001b[0m                                  Traceback (most recent call last)",
      "File \u001b[1;32mC:\\ProgramData\\anaconda3\\envs\\NPL_Prueba\\Lib\\site-packages\\pandas\\core\\indexes\\base.py:3805\u001b[0m, in \u001b[0;36mIndex.get_loc\u001b[1;34m(self, key)\u001b[0m\n\u001b[0;32m   3804\u001b[0m \u001b[38;5;28;01mtry\u001b[39;00m:\n\u001b[1;32m-> 3805\u001b[0m     \u001b[38;5;28;01mreturn\u001b[39;00m \u001b[38;5;28mself\u001b[39m\u001b[38;5;241m.\u001b[39m_engine\u001b[38;5;241m.\u001b[39mget_loc(casted_key)\n\u001b[0;32m   3806\u001b[0m \u001b[38;5;28;01mexcept\u001b[39;00m \u001b[38;5;167;01mKeyError\u001b[39;00m \u001b[38;5;28;01mas\u001b[39;00m err:\n",
      "File \u001b[1;32mindex.pyx:167\u001b[0m, in \u001b[0;36mpandas._libs.index.IndexEngine.get_loc\u001b[1;34m()\u001b[0m\n",
      "File \u001b[1;32mindex.pyx:196\u001b[0m, in \u001b[0;36mpandas._libs.index.IndexEngine.get_loc\u001b[1;34m()\u001b[0m\n",
      "File \u001b[1;32mpandas\\\\_libs\\\\hashtable_class_helper.pxi:7081\u001b[0m, in \u001b[0;36mpandas._libs.hashtable.PyObjectHashTable.get_item\u001b[1;34m()\u001b[0m\n",
      "File \u001b[1;32mpandas\\\\_libs\\\\hashtable_class_helper.pxi:7089\u001b[0m, in \u001b[0;36mpandas._libs.hashtable.PyObjectHashTable.get_item\u001b[1;34m()\u001b[0m\n",
      "\u001b[1;31mKeyError\u001b[0m: 'Consulta'",
      "\nThe above exception was the direct cause of the following exception:\n",
      "\u001b[1;31mKeyError\u001b[0m                                  Traceback (most recent call last)",
      "Cell \u001b[1;32mIn[59], line 26\u001b[0m\n\u001b[0;32m     23\u001b[0m             \u001b[38;5;28mprint\u001b[39m(\u001b[38;5;124mf\u001b[39m\u001b[38;5;124m\"\u001b[39m\u001b[38;5;124m  idConsulta \u001b[39m\u001b[38;5;132;01m{\u001b[39;00mrow[\u001b[38;5;124m'\u001b[39m\u001b[38;5;124midConsulta\u001b[39m\u001b[38;5;124m'\u001b[39m]\u001b[38;5;132;01m}\u001b[39;00m\u001b[38;5;124m: \u001b[39m\u001b[38;5;132;01m{\u001b[39;00mrow[\u001b[38;5;124m'\u001b[39m\u001b[38;5;124mConsulta\u001b[39m\u001b[38;5;124m'\u001b[39m]\u001b[38;5;132;01m}\u001b[39;00m\u001b[38;5;124m\"\u001b[39m)\n\u001b[0;32m     25\u001b[0m \u001b[38;5;66;03m# Ejecutar la función\u001b[39;00m\n\u001b[1;32m---> 26\u001b[0m mostrar_preguntas_por_posicion(resultados_df)\n",
      "Cell \u001b[1;32mIn[59], line 16\u001b[0m, in \u001b[0;36mmostrar_preguntas_por_posicion\u001b[1;34m(df)\u001b[0m\n\u001b[0;32m     14\u001b[0m         \u001b[38;5;28mprint\u001b[39m(\u001b[38;5;124mf\u001b[39m\u001b[38;5;124m\"\u001b[39m\u001b[38;5;130;01m\\n\u001b[39;00m\u001b[38;5;124mPosición \u001b[39m\u001b[38;5;132;01m{\u001b[39;00mposicion\u001b[38;5;132;01m}\u001b[39;00m\u001b[38;5;124m:\u001b[39m\u001b[38;5;124m\"\u001b[39m)\n\u001b[0;32m     15\u001b[0m         \u001b[38;5;28;01mfor\u001b[39;00m _, row \u001b[38;5;129;01min\u001b[39;00m preguntas\u001b[38;5;241m.\u001b[39miterrows():\n\u001b[1;32m---> 16\u001b[0m             \u001b[38;5;28mprint\u001b[39m(\u001b[38;5;124mf\u001b[39m\u001b[38;5;124m\"\u001b[39m\u001b[38;5;124m  idConsulta \u001b[39m\u001b[38;5;132;01m{\u001b[39;00mrow[\u001b[38;5;124m'\u001b[39m\u001b[38;5;124midConsulta\u001b[39m\u001b[38;5;124m'\u001b[39m]\u001b[38;5;132;01m}\u001b[39;00m\u001b[38;5;124m: \u001b[39m\u001b[38;5;132;01m{\u001b[39;00mrow[\u001b[38;5;124m'\u001b[39m\u001b[38;5;124mConsulta\u001b[39m\u001b[38;5;124m'\u001b[39m]\u001b[38;5;132;01m}\u001b[39;00m\u001b[38;5;124m\"\u001b[39m)\n\u001b[0;32m     18\u001b[0m \u001b[38;5;66;03m# Preguntas no encontradas (Posicion == -1)\u001b[39;00m\n\u001b[0;32m     19\u001b[0m no_encontradas \u001b[38;5;241m=\u001b[39m df[df[\u001b[38;5;124m'\u001b[39m\u001b[38;5;124mPosicion\u001b[39m\u001b[38;5;124m'\u001b[39m] \u001b[38;5;241m==\u001b[39m \u001b[38;5;241m-\u001b[39m\u001b[38;5;241m1\u001b[39m]\n",
      "File \u001b[1;32mC:\\ProgramData\\anaconda3\\envs\\NPL_Prueba\\Lib\\site-packages\\pandas\\core\\series.py:1121\u001b[0m, in \u001b[0;36mSeries.__getitem__\u001b[1;34m(self, key)\u001b[0m\n\u001b[0;32m   1118\u001b[0m     \u001b[38;5;28;01mreturn\u001b[39;00m \u001b[38;5;28mself\u001b[39m\u001b[38;5;241m.\u001b[39m_values[key]\n\u001b[0;32m   1120\u001b[0m \u001b[38;5;28;01melif\u001b[39;00m key_is_scalar:\n\u001b[1;32m-> 1121\u001b[0m     \u001b[38;5;28;01mreturn\u001b[39;00m \u001b[38;5;28mself\u001b[39m\u001b[38;5;241m.\u001b[39m_get_value(key)\n\u001b[0;32m   1123\u001b[0m \u001b[38;5;66;03m# Convert generator to list before going through hashable part\u001b[39;00m\n\u001b[0;32m   1124\u001b[0m \u001b[38;5;66;03m# (We will iterate through the generator there to check for slices)\u001b[39;00m\n\u001b[0;32m   1125\u001b[0m \u001b[38;5;28;01mif\u001b[39;00m is_iterator(key):\n",
      "File \u001b[1;32mC:\\ProgramData\\anaconda3\\envs\\NPL_Prueba\\Lib\\site-packages\\pandas\\core\\series.py:1237\u001b[0m, in \u001b[0;36mSeries._get_value\u001b[1;34m(self, label, takeable)\u001b[0m\n\u001b[0;32m   1234\u001b[0m     \u001b[38;5;28;01mreturn\u001b[39;00m \u001b[38;5;28mself\u001b[39m\u001b[38;5;241m.\u001b[39m_values[label]\n\u001b[0;32m   1236\u001b[0m \u001b[38;5;66;03m# Similar to Index.get_value, but we do not fall back to positional\u001b[39;00m\n\u001b[1;32m-> 1237\u001b[0m loc \u001b[38;5;241m=\u001b[39m \u001b[38;5;28mself\u001b[39m\u001b[38;5;241m.\u001b[39mindex\u001b[38;5;241m.\u001b[39mget_loc(label)\n\u001b[0;32m   1239\u001b[0m \u001b[38;5;28;01mif\u001b[39;00m is_integer(loc):\n\u001b[0;32m   1240\u001b[0m     \u001b[38;5;28;01mreturn\u001b[39;00m \u001b[38;5;28mself\u001b[39m\u001b[38;5;241m.\u001b[39m_values[loc]\n",
      "File \u001b[1;32mC:\\ProgramData\\anaconda3\\envs\\NPL_Prueba\\Lib\\site-packages\\pandas\\core\\indexes\\base.py:3812\u001b[0m, in \u001b[0;36mIndex.get_loc\u001b[1;34m(self, key)\u001b[0m\n\u001b[0;32m   3807\u001b[0m     \u001b[38;5;28;01mif\u001b[39;00m \u001b[38;5;28misinstance\u001b[39m(casted_key, \u001b[38;5;28mslice\u001b[39m) \u001b[38;5;129;01mor\u001b[39;00m (\n\u001b[0;32m   3808\u001b[0m         \u001b[38;5;28misinstance\u001b[39m(casted_key, abc\u001b[38;5;241m.\u001b[39mIterable)\n\u001b[0;32m   3809\u001b[0m         \u001b[38;5;129;01mand\u001b[39;00m \u001b[38;5;28many\u001b[39m(\u001b[38;5;28misinstance\u001b[39m(x, \u001b[38;5;28mslice\u001b[39m) \u001b[38;5;28;01mfor\u001b[39;00m x \u001b[38;5;129;01min\u001b[39;00m casted_key)\n\u001b[0;32m   3810\u001b[0m     ):\n\u001b[0;32m   3811\u001b[0m         \u001b[38;5;28;01mraise\u001b[39;00m InvalidIndexError(key)\n\u001b[1;32m-> 3812\u001b[0m     \u001b[38;5;28;01mraise\u001b[39;00m \u001b[38;5;167;01mKeyError\u001b[39;00m(key) \u001b[38;5;28;01mfrom\u001b[39;00m \u001b[38;5;21;01merr\u001b[39;00m\n\u001b[0;32m   3813\u001b[0m \u001b[38;5;28;01mexcept\u001b[39;00m \u001b[38;5;167;01mTypeError\u001b[39;00m:\n\u001b[0;32m   3814\u001b[0m     \u001b[38;5;66;03m# If we have a listlike key, _check_indexing_error will raise\u001b[39;00m\n\u001b[0;32m   3815\u001b[0m     \u001b[38;5;66;03m#  InvalidIndexError. Otherwise we fall through and re-raise\u001b[39;00m\n\u001b[0;32m   3816\u001b[0m     \u001b[38;5;66;03m#  the TypeError.\u001b[39;00m\n\u001b[0;32m   3817\u001b[0m     \u001b[38;5;28mself\u001b[39m\u001b[38;5;241m.\u001b[39m_check_indexing_error(key)\n",
      "\u001b[1;31mKeyError\u001b[0m: 'Consulta'"
     ]
    }
   ],
   "source": [
    "def mostrar_preguntas_por_posicion(df):\n",
    "    # Resumen de cantidad por posición\n",
    "    print(\"Resumen de cantidad por posición:\")\n",
    "    for posicion in range(1, 11):\n",
    "        cantidad = df[df['Posicion'] == posicion].shape[0]\n",
    "        print(f\"Posición {posicion}: {cantidad}\")\n",
    "    no_encontradas = df[df['Posicion'] == -1].shape[0]\n",
    "    print(f\"No encontradas: {no_encontradas}\")\n",
    "    \n",
    "    print(\"\\nPreguntas detalladas por posición:\")\n",
    "    for posicion in range(1, 11):\n",
    "        preguntas = df[df['Posicion'] == posicion]\n",
    "        if not preguntas.empty:\n",
    "            print(f\"\\nPosición {posicion}:\")\n",
    "            for _, row in preguntas.iterrows():\n",
    "                print(f\"  idConsulta {row['idConsulta']}: {row['Consulta']}\")\n",
    "    \n",
    "    # Preguntas no encontradas (Posicion == -1)\n",
    "    no_encontradas = df[df['Posicion'] == -1]\n",
    "    if not no_encontradas.empty:\n",
    "        print(\"\\nPreguntas no encontradas:\")\n",
    "        for _, row in no_encontradas.iterrows():\n",
    "            print(f\"  idConsulta {row['idConsulta']}: {row['Consulta']}\")\n",
    "\n",
    "# Ejecutar la función\n",
    "mostrar_preguntas_por_posicion(resultados_df)"
   ]
  },
  {
   "cell_type": "code",
   "execution_count": null,
   "id": "453944bd-2675-4f01-bb39-b77741fa6f53",
   "metadata": {},
   "outputs": [],
   "source": []
  }
 ],
 "metadata": {
  "kernelspec": {
   "display_name": "Python 3 (ipykernel)",
   "language": "python",
   "name": "python3"
  },
  "language_info": {
   "codemirror_mode": {
    "name": "ipython",
    "version": 3
   },
   "file_extension": ".py",
   "mimetype": "text/x-python",
   "name": "python",
   "nbconvert_exporter": "python",
   "pygments_lexer": "ipython3",
   "version": "3.11.9"
  }
 },
 "nbformat": 4,
 "nbformat_minor": 5
}
